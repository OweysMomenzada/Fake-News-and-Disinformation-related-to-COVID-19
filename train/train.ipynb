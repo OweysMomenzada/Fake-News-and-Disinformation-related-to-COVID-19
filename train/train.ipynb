{
  "nbformat": 4,
  "nbformat_minor": 0,
  "metadata": {
    "colab": {
      "name": "Train.ipynb",
      "provenance": [],
      "collapsed_sections": []
    },
    "kernelspec": {
      "name": "python3",
      "display_name": "Python 3"
    },
    "language_info": {
      "name": "python"
    },
    "accelerator": "GPU"
  },
  "cells": [
    {
      "cell_type": "code",
      "execution_count": null,
      "metadata": {
        "colab": {
          "base_uri": "https://localhost:8080/"
        },
        "id": "a4jYMvs1Iq0K",
        "outputId": "c129d7d9-034a-466b-e657-d7a40b2d457f"
      },
      "outputs": [
        {
          "output_type": "stream",
          "name": "stdout",
          "text": [
            "Drive already mounted at /content/drive/; to attempt to forcibly remount, call drive.mount(\"/content/drive/\", force_remount=True).\n"
          ]
        }
      ],
      "source": [
        "from google.colab import drive\n",
        "drive.mount('/content/drive/')"
      ]
    },
    {
      "cell_type": "code",
      "source": [
        "from tensorflow.python.client import device_lib\n",
        "print(device_lib.list_local_devices())\n",
        "  \n",
        "import tensorflow as tf\n",
        "if tf.test.gpu_device_name():\n",
        "    print('Default GPU Device: {}'.format(tf.test.gpu_device_name()))"
      ],
      "metadata": {
        "colab": {
          "base_uri": "https://localhost:8080/"
        },
        "id": "5NskPLoEI7Fc",
        "outputId": "a0129670-5819-441e-cc22-097e834394bf"
      },
      "execution_count": null,
      "outputs": [
        {
          "output_type": "stream",
          "name": "stdout",
          "text": [
            "[name: \"/device:CPU:0\"\n",
            "device_type: \"CPU\"\n",
            "memory_limit: 268435456\n",
            "locality {\n",
            "}\n",
            "incarnation: 4578792217134177669\n",
            "xla_global_id: -1\n",
            ", name: \"/device:GPU:0\"\n",
            "device_type: \"GPU\"\n",
            "memory_limit: 11320098816\n",
            "locality {\n",
            "  bus_id: 1\n",
            "  links {\n",
            "  }\n",
            "}\n",
            "incarnation: 14771846386673778380\n",
            "physical_device_desc: \"device: 0, name: Tesla K80, pci bus id: 0000:00:04.0, compute capability: 3.7\"\n",
            "xla_global_id: 416903419\n",
            "]\n",
            "Default GPU Device: /device:GPU:0\n"
          ]
        }
      ]
    },
    {
      "cell_type": "code",
      "source": [
        "import platform\n",
        "import tensorflow as tf\n",
        "\n",
        "if tf.test.is_built_with_cuda() == False:\n",
        "    print('ARBEIT OHNE GPU')\n",
        "\n",
        "print(platform.machine(), '\\n')\n",
        "print(platform.version(), '\\n')\n",
        "print(platform.platform(), '\\n')\n",
        "print(platform.uname(), '\\n')\n",
        "print(platform.system(), '\\n')\n",
        "print(platform.processor())"
      ],
      "metadata": {
        "colab": {
          "base_uri": "https://localhost:8080/"
        },
        "id": "7ZuJmO9wJD7t",
        "outputId": "7ba04cb2-80a5-4e9c-e73f-21cf0770d32e"
      },
      "execution_count": null,
      "outputs": [
        {
          "output_type": "stream",
          "name": "stdout",
          "text": [
            "x86_64 \n",
            "\n",
            "#1 SMP Sat Jun 5 09:50:34 PDT 2021 \n",
            "\n",
            "Linux-5.4.104+-x86_64-with-Ubuntu-18.04-bionic \n",
            "\n",
            "uname_result(system='Linux', node='165fc4fee9ed', release='5.4.104+', version='#1 SMP Sat Jun 5 09:50:34 PDT 2021', machine='x86_64', processor='x86_64') \n",
            "\n",
            "Linux \n",
            "\n",
            "x86_64\n"
          ]
        }
      ]
    },
    {
      "cell_type": "code",
      "source": [
        "import pandas as pd\n",
        "import numpy as np\n",
        "import json\n",
        "import re\n",
        "import string\n",
        "\n",
        "df_drive = pd.read_csv('/content/drive/MyDrive/NLP for Web/fullset.csv')"
      ],
      "metadata": {
        "id": "ioEbBT0KJFis"
      },
      "execution_count": null,
      "outputs": []
    },
    {
      "cell_type": "code",
      "source": [
        "from sklearn.preprocessing import LabelEncoder\n",
        "\n",
        "lb_make = LabelEncoder()\n",
        "label_id = lb_make.fit_transform(df_drive.label)\n",
        "\n",
        "df_drive['label_id'] = label_id\n",
        "df_drive.dropna(inplace=True)"
      ],
      "metadata": {
        "id": "BC3JTH7pLHBa"
      },
      "execution_count": null,
      "outputs": []
    },
    {
      "cell_type": "code",
      "source": [
        "from sklearn.model_selection  import train_test_split\n",
        "\n",
        "df_train, df_test = train_test_split(df_drive, test_size=0.2, random_state=42)\n",
        "\n",
        "df_train.reset_index(inplace=True, drop=True)\n",
        "df_test.reset_index(inplace=True, drop=True)"
      ],
      "metadata": {
        "id": "UP2-UcLbJSGC"
      },
      "execution_count": null,
      "outputs": []
    },
    {
      "cell_type": "code",
      "source": [
        "df_test.to_csv('testset.csv', index=False)"
      ],
      "metadata": {
        "id": "Vn0-FBeEbWb-"
      },
      "execution_count": null,
      "outputs": []
    },
    {
      "cell_type": "code",
      "source": [
        "!pip install transformers"
      ],
      "metadata": {
        "colab": {
          "base_uri": "https://localhost:8080/"
        },
        "id": "yXryc3lRKCuH",
        "outputId": "e95b2e6a-5b90-4ac4-ea26-57fa1132bf7e"
      },
      "execution_count": null,
      "outputs": [
        {
          "output_type": "stream",
          "name": "stdout",
          "text": [
            "Requirement already satisfied: transformers in /usr/local/lib/python3.7/dist-packages (4.12.5)\n",
            "Requirement already satisfied: packaging>=20.0 in /usr/local/lib/python3.7/dist-packages (from transformers) (21.3)\n",
            "Requirement already satisfied: numpy>=1.17 in /usr/local/lib/python3.7/dist-packages (from transformers) (1.19.5)\n",
            "Requirement already satisfied: huggingface-hub<1.0,>=0.1.0 in /usr/local/lib/python3.7/dist-packages (from transformers) (0.2.1)\n",
            "Requirement already satisfied: importlib-metadata in /usr/local/lib/python3.7/dist-packages (from transformers) (4.8.2)\n",
            "Requirement already satisfied: requests in /usr/local/lib/python3.7/dist-packages (from transformers) (2.23.0)\n",
            "Requirement already satisfied: tokenizers<0.11,>=0.10.1 in /usr/local/lib/python3.7/dist-packages (from transformers) (0.10.3)\n",
            "Requirement already satisfied: tqdm>=4.27 in /usr/local/lib/python3.7/dist-packages (from transformers) (4.62.3)\n",
            "Requirement already satisfied: filelock in /usr/local/lib/python3.7/dist-packages (from transformers) (3.4.0)\n",
            "Requirement already satisfied: pyyaml>=5.1 in /usr/local/lib/python3.7/dist-packages (from transformers) (6.0)\n",
            "Requirement already satisfied: sacremoses in /usr/local/lib/python3.7/dist-packages (from transformers) (0.0.46)\n",
            "Requirement already satisfied: regex!=2019.12.17 in /usr/local/lib/python3.7/dist-packages (from transformers) (2019.12.20)\n",
            "Requirement already satisfied: typing-extensions>=3.7.4.3 in /usr/local/lib/python3.7/dist-packages (from huggingface-hub<1.0,>=0.1.0->transformers) (3.10.0.2)\n",
            "Requirement already satisfied: pyparsing!=3.0.5,>=2.0.2 in /usr/local/lib/python3.7/dist-packages (from packaging>=20.0->transformers) (3.0.6)\n",
            "Requirement already satisfied: zipp>=0.5 in /usr/local/lib/python3.7/dist-packages (from importlib-metadata->transformers) (3.6.0)\n",
            "Requirement already satisfied: chardet<4,>=3.0.2 in /usr/local/lib/python3.7/dist-packages (from requests->transformers) (3.0.4)\n",
            "Requirement already satisfied: idna<3,>=2.5 in /usr/local/lib/python3.7/dist-packages (from requests->transformers) (2.10)\n",
            "Requirement already satisfied: certifi>=2017.4.17 in /usr/local/lib/python3.7/dist-packages (from requests->transformers) (2021.10.8)\n",
            "Requirement already satisfied: urllib3!=1.25.0,!=1.25.1,<1.26,>=1.21.1 in /usr/local/lib/python3.7/dist-packages (from requests->transformers) (1.24.3)\n",
            "Requirement already satisfied: six in /usr/local/lib/python3.7/dist-packages (from sacremoses->transformers) (1.15.0)\n",
            "Requirement already satisfied: click in /usr/local/lib/python3.7/dist-packages (from sacremoses->transformers) (7.1.2)\n",
            "Requirement already satisfied: joblib in /usr/local/lib/python3.7/dist-packages (from sacremoses->transformers) (1.1.0)\n"
          ]
        }
      ]
    },
    {
      "cell_type": "markdown",
      "source": [
        "## Load Bert uncased Model"
      ],
      "metadata": {
        "id": "mLkYmToJMQcC"
      }
    },
    {
      "cell_type": "code",
      "source": [
        "from transformers import AutoTokenizer, TFAutoModel\n",
        "\n",
        "#Downloading the tokenizer and the Albert model for fine tuning\n",
        "\n",
        "tokenizer = AutoTokenizer.from_pretrained('bert-base-cased')\n",
        "bert=TFAutoModel.from_pretrained('bert-base-cased')"
      ],
      "metadata": {
        "colab": {
          "base_uri": "https://localhost:8080/"
        },
        "id": "ktwD1o5wJZ8-",
        "outputId": "58ef40c5-7b83-45d2-f4ec-2f2027389a5e"
      },
      "execution_count": null,
      "outputs": [
        {
          "output_type": "stream",
          "name": "stderr",
          "text": [
            "Some layers from the model checkpoint at bert-base-cased were not used when initializing TFBertModel: ['mlm___cls', 'nsp___cls']\n",
            "- This IS expected if you are initializing TFBertModel from the checkpoint of a model trained on another task or with another architecture (e.g. initializing a BertForSequenceClassification model from a BertForPreTraining model).\n",
            "- This IS NOT expected if you are initializing TFBertModel from the checkpoint of a model that you expect to be exactly identical (initializing a BertForSequenceClassification model from a BertForSequenceClassification model).\n",
            "All the layers of TFBertModel were initialized from the model checkpoint at bert-base-cased.\n",
            "If your task is similar to the task the model of the checkpoint was trained on, you can already use TFBertModel for predictions without further training.\n"
          ]
        }
      ]
    },
    {
      "cell_type": "code",
      "source": [
        "# max length of berttokenizer  is 512\n",
        "max_length=512\n",
        "\n",
        "Xids_train=np.zeros((df_train.shape[0],max_length))\n",
        "Xmask_train=np.zeros((df_train.shape[0],max_length))\n",
        "y_train=np.zeros((df_train.shape[0],1))\n",
        "\n",
        "Xids_test=np.zeros((df_test.shape[0],max_length))\n",
        "Xmask_test=np.zeros((df_test.shape[0],max_length))"
      ],
      "metadata": {
        "id": "BOmJMlYJKB5f"
      },
      "execution_count": null,
      "outputs": []
    },
    {
      "cell_type": "code",
      "source": [
        "for i,sequence in enumerate(df_train['tweet']):\n",
        "    tokens=tokenizer.encode_plus(sequence,max_length=max_length,padding='max_length',add_special_tokens=True,\n",
        "                           truncation=True,return_token_type_ids=False,return_attention_mask=True,\n",
        "                           return_tensors='tf')\n",
        "\n",
        "    Xids_train[i,:] = tokens['input_ids']\n",
        "    Xmask_train[i,:] = tokens['attention_mask']\n",
        "    y_train[i,0] = df_train.loc[i,'label_id']\n",
        "    \n",
        "for i,sequence in enumerate(df_test['tweet']):\n",
        "    tokens=tokenizer.encode_plus(sequence,max_length=max_length,padding='max_length',add_special_tokens=True,\n",
        "                           truncation=True,return_token_type_ids=False,return_attention_mask=True,\n",
        "                           return_tensors='tf')\n",
        "    \n",
        "    Xids_test[i,:] = tokens['input_ids']\n",
        "    Xmask_test[i,:] = tokens['attention_mask']"
      ],
      "metadata": {
        "id": "l27ol1JDKmGR"
      },
      "execution_count": null,
      "outputs": []
    },
    {
      "cell_type": "markdown",
      "source": [
        "## Define batches"
      ],
      "metadata": {
        "id": "3BOkDuR_MVgn"
      }
    },
    {
      "cell_type": "code",
      "source": [
        "dataset=tf.data.Dataset.from_tensor_slices((Xids_train,Xmask_train,y_train))\n",
        "\n",
        "def map_func(input_ids,mask,labels):\n",
        "    return {'input_ids':input_ids,'attention_mask':mask},labels\n",
        "\n",
        "dataset=dataset.map(map_func)\n",
        "dataset=dataset.shuffle(100000).batch(64).prefetch(1000)\n",
        "\n",
        "DS_size=len(list(dataset))\n",
        "\n",
        "train=dataset.take(round(DS_size*0.85))\n",
        "val=dataset.skip(round(DS_size*0.85))"
      ],
      "metadata": {
        "id": "U_KkcCo4KnIN"
      },
      "execution_count": null,
      "outputs": []
    },
    {
      "cell_type": "code",
      "source": [
        "dataset_test=tf.data.Dataset.from_tensor_slices((Xids_test,Xmask_test))\n",
        "\n",
        "def map_func(input_ids,mask):\n",
        "    return {'input_ids':input_ids,'attention_mask':mask}\n",
        "\n",
        "dataset_test=dataset_test.map(map_func)\n",
        "# batching it to or the predictions will be multiplied by the shape\n",
        "dataset_test=dataset_test.batch(64).prefetch(1000)"
      ],
      "metadata": {
        "id": "Vpf-jMyQMYL5"
      },
      "execution_count": null,
      "outputs": []
    },
    {
      "cell_type": "markdown",
      "source": [
        "## Define Model"
      ],
      "metadata": {
        "id": "tVHYKAfKMdHq"
      }
    },
    {
      "cell_type": "code",
      "source": [
        "#save model\n",
        "from __future__ import absolute_import, division, print_function\n",
        "import os\n",
        "\n",
        "checkpoint_path = \"/content/drive/MyDrive/NLP for Web/model\"\n",
        "checkpoint_dir = os.path.dirname(checkpoint_path)\n",
        "\n",
        "cp_callback = tf.keras.callbacks.ModelCheckpoint(checkpoint_path, \n",
        "                                                 save_weights_only=True,\n",
        "                                                 verbose=1)"
      ],
      "metadata": {
        "id": "Dd6yv4iRMZoi"
      },
      "execution_count": null,
      "outputs": []
    },
    {
      "cell_type": "code",
      "source": [
        "import tensorflow as tf \n",
        "\n",
        "def CovFake_model():\n",
        "  input_ids=tf.keras.layers.Input(shape=(max_length,),name='input_ids',dtype='int32')\n",
        "  input_mask=tf.keras.layers.Input(shape=(max_length,),name='attention_mask',dtype='int32')\n",
        "  \n",
        "  embedding=bert(input_ids,attention_mask=input_mask)[0]\n",
        "  x=tf.keras.layers.GlobalMaxPool1D()(embedding)\n",
        "  x=tf.keras.layers.GlobalAveragePooling1D()(embedding)\n",
        "  x=tf.keras.layers.BatchNormalization()(x)\n",
        "  x=tf.keras.layers.Dense(256,activation='relu')(x)\n",
        "  x=tf.keras.layers.Dropout(0.3)(x)\n",
        "  x=tf.keras.layers.Dense(128,activation='relu')(x)\n",
        "  x=tf.keras.layers.Dropout(0.3)(x)\n",
        "  x=tf.keras.layers.Dense(64,activation='relu')(x)\n",
        "  output=tf.keras.layers.Dense(1,activation='sigmoid')(x)\n",
        "  \n",
        "  model=tf.keras.Model(inputs=[input_ids,input_mask],outputs=output)\n",
        "  \n",
        "  return model"
      ],
      "metadata": {
        "id": "oKaShRxrM5fS"
      },
      "execution_count": null,
      "outputs": []
    },
    {
      "cell_type": "code",
      "source": [
        "model = CovFake_model()"
      ],
      "metadata": {
        "id": "wFduIXnwM6ic"
      },
      "execution_count": null,
      "outputs": []
    },
    {
      "cell_type": "code",
      "source": [
        "model.summary()"
      ],
      "metadata": {
        "colab": {
          "base_uri": "https://localhost:8080/"
        },
        "id": "n__whkUPlt4g",
        "outputId": "d1c39074-1618-4394-a643-03ec947a4073"
      },
      "execution_count": null,
      "outputs": [
        {
          "output_type": "stream",
          "name": "stdout",
          "text": [
            "Model: \"model_3\"\n",
            "__________________________________________________________________________________________________\n",
            " Layer (type)                   Output Shape         Param #     Connected to                     \n",
            "==================================================================================================\n",
            " input_ids (InputLayer)         [(None, 512)]        0           []                               \n",
            "                                                                                                  \n",
            " attention_mask (InputLayer)    [(None, 512)]        0           []                               \n",
            "                                                                                                  \n",
            " tf_bert_model (TFBertModel)    TFBaseModelOutputWi  108310272   ['input_ids[0][0]',              \n",
            "                                thPoolingAndCrossAt               'attention_mask[0][0]']         \n",
            "                                tentions(last_hidde                                               \n",
            "                                n_state=(None, 512,                                               \n",
            "                                 768),                                                            \n",
            "                                 pooler_output=(Non                                               \n",
            "                                e, 768),                                                          \n",
            "                                 past_key_values=No                                               \n",
            "                                ne, hidden_states=N                                               \n",
            "                                one, attentions=Non                                               \n",
            "                                e, cross_attentions                                               \n",
            "                                =None)                                                            \n",
            "                                                                                                  \n",
            " global_average_pooling1d_2 (Gl  (None, 768)         0           ['tf_bert_model[3][0]']          \n",
            " obalAveragePooling1D)                                                                            \n",
            "                                                                                                  \n",
            " batch_normalization_2 (BatchNo  (None, 768)         3072        ['global_average_pooling1d_2[0][0\n",
            " rmalization)                                                    ]']                              \n",
            "                                                                                                  \n",
            " dense_11 (Dense)               (None, 256)          196864      ['batch_normalization_2[0][0]']  \n",
            "                                                                                                  \n",
            " dropout_42 (Dropout)           (None, 256)          0           ['dense_11[0][0]']               \n",
            "                                                                                                  \n",
            " dense_12 (Dense)               (None, 128)          32896       ['dropout_42[0][0]']             \n",
            "                                                                                                  \n",
            " dropout_43 (Dropout)           (None, 128)          0           ['dense_12[0][0]']               \n",
            "                                                                                                  \n",
            " dense_13 (Dense)               (None, 64)           8256        ['dropout_43[0][0]']             \n",
            "                                                                                                  \n",
            " dense_14 (Dense)               (None, 1)            65          ['dense_13[0][0]']               \n",
            "                                                                                                  \n",
            "==================================================================================================\n",
            "Total params: 108,551,425\n",
            "Trainable params: 239,617\n",
            "Non-trainable params: 108,311,808\n",
            "__________________________________________________________________________________________________\n"
          ]
        }
      ]
    },
    {
      "cell_type": "markdown",
      "source": [
        "## Train Model"
      ],
      "metadata": {
        "id": "uhgAcifnND6U"
      }
    },
    {
      "cell_type": "code",
      "source": [
        "model.compile(loss=tf.keras.losses.BinaryCrossentropy(),\n",
        "              optimizer='adam',metrics=[tf.keras.metrics.AUC()])\n",
        "\n",
        "model.fit(train,validation_data=val,epochs=5, callbacks=[cp_callback])"
      ],
      "metadata": {
        "colab": {
          "base_uri": "https://localhost:8080/"
        },
        "id": "aO6tUfUPM-nF",
        "outputId": "53392039-5edc-485d-c20b-f1434ec48993"
      },
      "execution_count": null,
      "outputs": [
        {
          "output_type": "stream",
          "name": "stdout",
          "text": [
            "Epoch 1/5\n",
            "153/153 [==============================] - ETA: 0s - loss: 0.2047 - auc_2: 0.9727\n",
            "Epoch 00001: saving model to /content/drive/MyDrive/NLP for Web/model\n",
            "153/153 [==============================] - 983s 6s/step - loss: 0.2047 - auc_2: 0.9727 - val_loss: 0.2566 - val_auc_2: 0.9933\n",
            "Epoch 2/5\n",
            "153/153 [==============================] - ETA: 0s - loss: 0.1316 - auc_2: 0.9881\n",
            "Epoch 00002: saving model to /content/drive/MyDrive/NLP for Web/model\n",
            "153/153 [==============================] - 960s 6s/step - loss: 0.1316 - auc_2: 0.9881 - val_loss: 0.1184 - val_auc_2: 0.9962\n",
            "Epoch 3/5\n",
            "153/153 [==============================] - ETA: 0s - loss: 0.1199 - auc_2: 0.9901\n",
            "Epoch 00003: saving model to /content/drive/MyDrive/NLP for Web/model\n",
            "153/153 [==============================] - 964s 6s/step - loss: 0.1199 - auc_2: 0.9901 - val_loss: 0.0668 - val_auc_2: 0.9979\n",
            "Epoch 4/5\n",
            "153/153 [==============================] - ETA: 0s - loss: 0.1041 - auc_2: 0.9925\n",
            "Epoch 00004: saving model to /content/drive/MyDrive/NLP for Web/model\n",
            "153/153 [==============================] - 955s 6s/step - loss: 0.1041 - auc_2: 0.9925 - val_loss: 0.0571 - val_auc_2: 0.9985\n",
            "Epoch 5/5\n",
            "153/153 [==============================] - ETA: 0s - loss: 0.0908 - auc_2: 0.9941\n",
            "Epoch 00005: saving model to /content/drive/MyDrive/NLP for Web/model\n",
            "153/153 [==============================] - 957s 6s/step - loss: 0.0908 - auc_2: 0.9941 - val_loss: 0.0490 - val_auc_2: 0.9990\n"
          ]
        },
        {
          "output_type": "execute_result",
          "data": {
            "text/plain": [
              "<keras.callbacks.History at 0x7f9dc85c4050>"
            ]
          },
          "metadata": {},
          "execution_count": 31
        }
      ]
    }
  ]
}