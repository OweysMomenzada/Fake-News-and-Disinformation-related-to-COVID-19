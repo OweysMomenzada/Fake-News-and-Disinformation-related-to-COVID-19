{
  "nbformat": 4,
  "nbformat_minor": 0,
  "metadata": {
    "colab": {
      "name": "Train.ipynb",
      "provenance": [],
      "collapsed_sections": []
    },
    "kernelspec": {
      "name": "python3",
      "display_name": "Python 3"
    },
    "language_info": {
      "name": "python"
    },
    "accelerator": "GPU"
  },
  "cells": [
    {
      "cell_type": "code",
      "execution_count": 1,
      "metadata": {
        "colab": {
          "base_uri": "https://localhost:8080/"
        },
        "id": "a4jYMvs1Iq0K",
        "outputId": "220c1a7b-a002-4684-c6bb-7ca9c157c67f"
      },
      "outputs": [
        {
          "output_type": "stream",
          "name": "stdout",
          "text": [
            "Drive already mounted at /content/drive/; to attempt to forcibly remount, call drive.mount(\"/content/drive/\", force_remount=True).\n"
          ]
        }
      ],
      "source": [
        "from google.colab import drive\n",
        "drive.mount('/content/drive/')"
      ]
    },
    {
      "cell_type": "code",
      "source": [
        "from tensorflow.python.client import device_lib\n",
        "print(device_lib.list_local_devices())\n",
        "  \n",
        "import tensorflow as tf\n",
        "if tf.test.gpu_device_name():\n",
        "    print('Default GPU Device: {}'.format(tf.test.gpu_device_name()))"
      ],
      "metadata": {
        "colab": {
          "base_uri": "https://localhost:8080/"
        },
        "id": "5NskPLoEI7Fc",
        "outputId": "6cd5892e-152a-4ac3-d239-9055016b74e3"
      },
      "execution_count": 2,
      "outputs": [
        {
          "output_type": "stream",
          "name": "stdout",
          "text": [
            "[name: \"/device:CPU:0\"\n",
            "device_type: \"CPU\"\n",
            "memory_limit: 268435456\n",
            "locality {\n",
            "}\n",
            "incarnation: 8922609347374950549\n",
            "xla_global_id: -1\n",
            ", name: \"/device:GPU:0\"\n",
            "device_type: \"GPU\"\n",
            "memory_limit: 11320098816\n",
            "locality {\n",
            "  bus_id: 1\n",
            "  links {\n",
            "  }\n",
            "}\n",
            "incarnation: 14657957353903662093\n",
            "physical_device_desc: \"device: 0, name: Tesla K80, pci bus id: 0000:00:04.0, compute capability: 3.7\"\n",
            "xla_global_id: 416903419\n",
            "]\n",
            "Default GPU Device: /device:GPU:0\n"
          ]
        }
      ]
    },
    {
      "cell_type": "code",
      "source": [
        "import platform\n",
        "import tensorflow as tf\n",
        "\n",
        "if tf.test.is_built_with_cuda() == False:\n",
        "    print('ARBEIT OHNE GPU')\n",
        "\n",
        "print(platform.machine(), '\\n')\n",
        "print(platform.version(), '\\n')\n",
        "print(platform.platform(), '\\n')\n",
        "print(platform.uname(), '\\n')\n",
        "print(platform.system(), '\\n')\n",
        "print(platform.processor())"
      ],
      "metadata": {
        "colab": {
          "base_uri": "https://localhost:8080/"
        },
        "id": "7ZuJmO9wJD7t",
        "outputId": "169b4c58-c2ad-4d12-9388-751740c13258"
      },
      "execution_count": 3,
      "outputs": [
        {
          "output_type": "stream",
          "name": "stdout",
          "text": [
            "x86_64 \n",
            "\n",
            "#1 SMP Sat Jun 5 09:50:34 PDT 2021 \n",
            "\n",
            "Linux-5.4.104+-x86_64-with-Ubuntu-18.04-bionic \n",
            "\n",
            "uname_result(system='Linux', node='19e345c496d2', release='5.4.104+', version='#1 SMP Sat Jun 5 09:50:34 PDT 2021', machine='x86_64', processor='x86_64') \n",
            "\n",
            "Linux \n",
            "\n",
            "x86_64\n"
          ]
        }
      ]
    },
    {
      "cell_type": "code",
      "source": [
        "import pandas as pd\n",
        "import numpy as np\n",
        "import json\n",
        "import re\n",
        "import string\n",
        "\n",
        "df_drive = pd.read_csv('/content/drive/MyDrive/NLP for Web/fullset.csv')"
      ],
      "metadata": {
        "id": "ioEbBT0KJFis"
      },
      "execution_count": 4,
      "outputs": []
    },
    {
      "cell_type": "code",
      "source": [
        "from sklearn.preprocessing import LabelEncoder\n",
        "\n",
        "lb_make = LabelEncoder()\n",
        "label_id = lb_make.fit_transform(df_drive.label)\n",
        "\n",
        "df_drive['label_id'] = label_id\n",
        "df_drive.dropna(inplace=True)"
      ],
      "metadata": {
        "id": "BC3JTH7pLHBa"
      },
      "execution_count": 5,
      "outputs": []
    },
    {
      "cell_type": "code",
      "source": [
        "from sklearn.model_selection  import train_test_split\n",
        "\n",
        "df_train, df_test = train_test_split(df_drive, test_size=0.2, random_state=42)\n",
        "\n",
        "df_train.reset_index(inplace=True, drop=True)\n",
        "df_test.reset_index(inplace=True, drop=True)"
      ],
      "metadata": {
        "id": "UP2-UcLbJSGC"
      },
      "execution_count": 6,
      "outputs": []
    },
    {
      "cell_type": "code",
      "source": [
        "df_test.to_csv('testset.csv', index=False)"
      ],
      "metadata": {
        "id": "Vn0-FBeEbWb-"
      },
      "execution_count": 19,
      "outputs": []
    },
    {
      "cell_type": "code",
      "source": [
        "!pip install transformers"
      ],
      "metadata": {
        "colab": {
          "base_uri": "https://localhost:8080/"
        },
        "id": "yXryc3lRKCuH",
        "outputId": "c3c1c17a-b762-4bce-d238-c647a16e250f"
      },
      "execution_count": 7,
      "outputs": [
        {
          "output_type": "stream",
          "name": "stdout",
          "text": [
            "Requirement already satisfied: transformers in /usr/local/lib/python3.7/dist-packages (4.12.5)\n",
            "Requirement already satisfied: numpy>=1.17 in /usr/local/lib/python3.7/dist-packages (from transformers) (1.19.5)\n",
            "Requirement already satisfied: regex!=2019.12.17 in /usr/local/lib/python3.7/dist-packages (from transformers) (2019.12.20)\n",
            "Requirement already satisfied: requests in /usr/local/lib/python3.7/dist-packages (from transformers) (2.23.0)\n",
            "Requirement already satisfied: importlib-metadata in /usr/local/lib/python3.7/dist-packages (from transformers) (4.8.2)\n",
            "Requirement already satisfied: huggingface-hub<1.0,>=0.1.0 in /usr/local/lib/python3.7/dist-packages (from transformers) (0.2.1)\n",
            "Requirement already satisfied: pyyaml>=5.1 in /usr/local/lib/python3.7/dist-packages (from transformers) (6.0)\n",
            "Requirement already satisfied: tokenizers<0.11,>=0.10.1 in /usr/local/lib/python3.7/dist-packages (from transformers) (0.10.3)\n",
            "Requirement already satisfied: sacremoses in /usr/local/lib/python3.7/dist-packages (from transformers) (0.0.46)\n",
            "Requirement already satisfied: filelock in /usr/local/lib/python3.7/dist-packages (from transformers) (3.4.0)\n",
            "Requirement already satisfied: packaging>=20.0 in /usr/local/lib/python3.7/dist-packages (from transformers) (21.3)\n",
            "Requirement already satisfied: tqdm>=4.27 in /usr/local/lib/python3.7/dist-packages (from transformers) (4.62.3)\n",
            "Requirement already satisfied: typing-extensions>=3.7.4.3 in /usr/local/lib/python3.7/dist-packages (from huggingface-hub<1.0,>=0.1.0->transformers) (3.10.0.2)\n",
            "Requirement already satisfied: pyparsing!=3.0.5,>=2.0.2 in /usr/local/lib/python3.7/dist-packages (from packaging>=20.0->transformers) (3.0.6)\n",
            "Requirement already satisfied: zipp>=0.5 in /usr/local/lib/python3.7/dist-packages (from importlib-metadata->transformers) (3.6.0)\n",
            "Requirement already satisfied: certifi>=2017.4.17 in /usr/local/lib/python3.7/dist-packages (from requests->transformers) (2021.10.8)\n",
            "Requirement already satisfied: idna<3,>=2.5 in /usr/local/lib/python3.7/dist-packages (from requests->transformers) (2.10)\n",
            "Requirement already satisfied: chardet<4,>=3.0.2 in /usr/local/lib/python3.7/dist-packages (from requests->transformers) (3.0.4)\n",
            "Requirement already satisfied: urllib3!=1.25.0,!=1.25.1,<1.26,>=1.21.1 in /usr/local/lib/python3.7/dist-packages (from requests->transformers) (1.24.3)\n",
            "Requirement already satisfied: six in /usr/local/lib/python3.7/dist-packages (from sacremoses->transformers) (1.15.0)\n",
            "Requirement already satisfied: joblib in /usr/local/lib/python3.7/dist-packages (from sacremoses->transformers) (1.1.0)\n",
            "Requirement already satisfied: click in /usr/local/lib/python3.7/dist-packages (from sacremoses->transformers) (7.1.2)\n"
          ]
        }
      ]
    },
    {
      "cell_type": "markdown",
      "source": [
        "## Load Bert uncased Model"
      ],
      "metadata": {
        "id": "mLkYmToJMQcC"
      }
    },
    {
      "cell_type": "code",
      "source": [
        "from transformers import AutoTokenizer, TFAutoModel\n",
        "\n",
        "#Downloading the tokenizer and the Albert model for fine tuning\n",
        "\n",
        "tokenizer = AutoTokenizer.from_pretrained('bert-base-uncased')\n",
        "bert=TFAutoModel.from_pretrained('bert-base-uncased')"
      ],
      "metadata": {
        "colab": {
          "base_uri": "https://localhost:8080/"
        },
        "id": "ktwD1o5wJZ8-",
        "outputId": "8d301dc2-e571-4843-ed60-8baa99bbb4c3"
      },
      "execution_count": 8,
      "outputs": [
        {
          "output_type": "stream",
          "name": "stderr",
          "text": [
            "Some layers from the model checkpoint at bert-base-uncased were not used when initializing TFBertModel: ['nsp___cls', 'mlm___cls']\n",
            "- This IS expected if you are initializing TFBertModel from the checkpoint of a model trained on another task or with another architecture (e.g. initializing a BertForSequenceClassification model from a BertForPreTraining model).\n",
            "- This IS NOT expected if you are initializing TFBertModel from the checkpoint of a model that you expect to be exactly identical (initializing a BertForSequenceClassification model from a BertForSequenceClassification model).\n",
            "All the layers of TFBertModel were initialized from the model checkpoint at bert-base-uncased.\n",
            "If your task is similar to the task the model of the checkpoint was trained on, you can already use TFBertModel for predictions without further training.\n"
          ]
        }
      ]
    },
    {
      "cell_type": "code",
      "source": [
        "# max length of berttokenizer  is 512\n",
        "max_length=512\n",
        "\n",
        "Xids_train=np.zeros((df_train.shape[0],max_length))\n",
        "Xmask_train=np.zeros((df_train.shape[0],max_length))\n",
        "y_train=np.zeros((df_train.shape[0],1))\n",
        "\n",
        "Xids_test=np.zeros((df_test.shape[0],max_length))\n",
        "Xmask_test=np.zeros((df_test.shape[0],max_length))"
      ],
      "metadata": {
        "id": "BOmJMlYJKB5f"
      },
      "execution_count": 9,
      "outputs": []
    },
    {
      "cell_type": "code",
      "source": [
        "for i,sequence in enumerate(df_train['tweet']):\n",
        "    tokens=tokenizer.encode_plus(sequence,max_length=max_length,padding='max_length',add_special_tokens=True,\n",
        "                           truncation=True,return_token_type_ids=False,return_attention_mask=True,\n",
        "                           return_tensors='tf')\n",
        "\n",
        "    Xids_train[i,:] = tokens['input_ids']\n",
        "    Xmask_train[i,:] = tokens['attention_mask']\n",
        "    y_train[i,0] = df_train.loc[i,'label_id']\n",
        "    \n",
        "for i,sequence in enumerate(df_test['tweet']):\n",
        "    tokens=tokenizer.encode_plus(sequence,max_length=max_length,padding='max_length',add_special_tokens=True,\n",
        "                           truncation=True,return_token_type_ids=False,return_attention_mask=True,\n",
        "                           return_tensors='tf')\n",
        "    \n",
        "    Xids_test[i,:] = tokens['input_ids']\n",
        "    Xmask_test[i,:] = tokens['attention_mask']"
      ],
      "metadata": {
        "id": "l27ol1JDKmGR"
      },
      "execution_count": 10,
      "outputs": []
    },
    {
      "cell_type": "markdown",
      "source": [
        "## Define batches"
      ],
      "metadata": {
        "id": "3BOkDuR_MVgn"
      }
    },
    {
      "cell_type": "code",
      "source": [
        "dataset=tf.data.Dataset.from_tensor_slices((Xids_train,Xmask_train,y_train))\n",
        "\n",
        "def map_func(input_ids,mask,labels):\n",
        "    return {'input_ids':input_ids,'attention_mask':mask},labels\n",
        "\n",
        "dataset=dataset.map(map_func)\n",
        "dataset=dataset.shuffle(100000).batch(64).prefetch(1000)\n",
        "\n",
        "DS_size=len(list(dataset))\n",
        "\n",
        "train=dataset.take(round(DS_size*0.85))\n",
        "val=dataset.skip(round(DS_size*0.85))"
      ],
      "metadata": {
        "id": "U_KkcCo4KnIN"
      },
      "execution_count": 11,
      "outputs": []
    },
    {
      "cell_type": "code",
      "source": [
        "dataset_test=tf.data.Dataset.from_tensor_slices((Xids_test,Xmask_test))\n",
        "\n",
        "def map_func(input_ids,mask):\n",
        "    return {'input_ids':input_ids,'attention_mask':mask}\n",
        "\n",
        "dataset_test=dataset_test.map(map_func)\n",
        "# batching it to or the predictions will be multiplied by the shape\n",
        "dataset_test=dataset_test.batch(64).prefetch(1000)"
      ],
      "metadata": {
        "id": "Vpf-jMyQMYL5"
      },
      "execution_count": 12,
      "outputs": []
    },
    {
      "cell_type": "markdown",
      "source": [
        "## Define Model"
      ],
      "metadata": {
        "id": "tVHYKAfKMdHq"
      }
    },
    {
      "cell_type": "code",
      "source": [
        "#save model\n",
        "from __future__ import absolute_import, division, print_function\n",
        "import os\n",
        "\n",
        "checkpoint_path = \"/content/drive/MyDrive/NLP for Web\"\n",
        "checkpoint_dir = os.path.dirname(checkpoint_path)\n",
        "\n",
        "cp_callback = tf.keras.callbacks.ModelCheckpoint(checkpoint_path, \n",
        "                                                 save_weights_only=True,\n",
        "                                                 verbose=1)"
      ],
      "metadata": {
        "id": "Dd6yv4iRMZoi"
      },
      "execution_count": 13,
      "outputs": []
    },
    {
      "cell_type": "code",
      "source": [
        "import tensorflow as tf \n",
        "\n",
        "def CovFake_model():\n",
        "  input_ids=tf.keras.layers.Input(shape=(max_length,),name='input_ids',dtype='int32')\n",
        "  input_mask=tf.keras.layers.Input(shape=(max_length,),name='attention_mask',dtype='int32')\n",
        "  \n",
        "  embedding=bert(input_ids,attention_mask=input_mask)[0]\n",
        "  x=tf.keras.layers.GlobalMaxPool1D()(embedding)\n",
        "  x=tf.keras.layers.GlobalAveragePooling1D()(embedding)\n",
        "  x=tf.keras.layers.BatchNormalization()(x)\n",
        "  x=tf.keras.layers.Dense(128,activation='relu')(x)\n",
        "  x=tf.keras.layers.Dropout(0.3)(x)\n",
        "  x=tf.keras.layers.Dense(64,activation='relu')(x)\n",
        "  output=tf.keras.layers.Dense(1,activation='sigmoid')(x)\n",
        "  \n",
        "  model=tf.keras.Model(inputs=[input_ids,input_mask],outputs=output)\n",
        "  \n",
        "  model.layers[2].trainable=False\n",
        "\n",
        "  return model"
      ],
      "metadata": {
        "id": "oKaShRxrM5fS"
      },
      "execution_count": 14,
      "outputs": []
    },
    {
      "cell_type": "code",
      "source": [
        "model = CovFake_model()\n",
        "\n",
        "model.summary()"
      ],
      "metadata": {
        "colab": {
          "base_uri": "https://localhost:8080/"
        },
        "id": "wFduIXnwM6ic",
        "outputId": "348eae6c-46e7-4614-9047-5e070e951293"
      },
      "execution_count": 15,
      "outputs": [
        {
          "output_type": "stream",
          "name": "stdout",
          "text": [
            "Model: \"model\"\n",
            "__________________________________________________________________________________________________\n",
            " Layer (type)                   Output Shape         Param #     Connected to                     \n",
            "==================================================================================================\n",
            " input_ids (InputLayer)         [(None, 512)]        0           []                               \n",
            "                                                                                                  \n",
            " attention_mask (InputLayer)    [(None, 512)]        0           []                               \n",
            "                                                                                                  \n",
            " tf_bert_model (TFBertModel)    TFBaseModelOutputWi  109482240   ['input_ids[0][0]',              \n",
            "                                thPoolingAndCrossAt               'attention_mask[0][0]']         \n",
            "                                tentions(last_hidde                                               \n",
            "                                n_state=(None, 512,                                               \n",
            "                                 768),                                                            \n",
            "                                 pooler_output=(Non                                               \n",
            "                                e, 768),                                                          \n",
            "                                 past_key_values=No                                               \n",
            "                                ne, hidden_states=N                                               \n",
            "                                one, attentions=Non                                               \n",
            "                                e, cross_attentions                                               \n",
            "                                =None)                                                            \n",
            "                                                                                                  \n",
            " global_average_pooling1d (Glob  (None, 768)         0           ['tf_bert_model[0][0]']          \n",
            " alAveragePooling1D)                                                                              \n",
            "                                                                                                  \n",
            " batch_normalization (BatchNorm  (None, 768)         3072        ['global_average_pooling1d[0][0]'\n",
            " alization)                                                      ]                                \n",
            "                                                                                                  \n",
            " dense (Dense)                  (None, 128)          98432       ['batch_normalization[0][0]']    \n",
            "                                                                                                  \n",
            " dropout_37 (Dropout)           (None, 128)          0           ['dense[0][0]']                  \n",
            "                                                                                                  \n",
            " dense_1 (Dense)                (None, 64)           8256        ['dropout_37[0][0]']             \n",
            "                                                                                                  \n",
            " dense_2 (Dense)                (None, 1)            65          ['dense_1[0][0]']                \n",
            "                                                                                                  \n",
            "==================================================================================================\n",
            "Total params: 109,592,065\n",
            "Trainable params: 108,289\n",
            "Non-trainable params: 109,483,776\n",
            "__________________________________________________________________________________________________\n"
          ]
        }
      ]
    },
    {
      "cell_type": "markdown",
      "source": [
        "## Train Model"
      ],
      "metadata": {
        "id": "uhgAcifnND6U"
      }
    },
    {
      "cell_type": "code",
      "source": [
        "model.compile(loss=tf.keras.losses.BinaryCrossentropy(),\n",
        "              optimizer='adam',metrics=[tf.keras.metrics.AUC()])\n",
        "\n",
        "model.fit(train,validation_data=val,epochs=3, callbacks=[cp_callback])"
      ],
      "metadata": {
        "colab": {
          "base_uri": "https://localhost:8080/"
        },
        "id": "aO6tUfUPM-nF",
        "outputId": "36ef3352-2058-4bb6-ca1e-20e01e27fcaf"
      },
      "execution_count": 16,
      "outputs": [
        {
          "output_type": "stream",
          "name": "stdout",
          "text": [
            "Epoch 1/3\n",
            "153/153 [==============================] - ETA: 0s - loss: 0.2014 - auc: 0.9737\n",
            "Epoch 00001: saving model to /content/drive/MyDrive/NLP for Web\n",
            "153/153 [==============================] - 1146s 7s/step - loss: 0.2014 - auc: 0.9737 - val_loss: 0.2327 - val_auc: 0.9904\n",
            "Epoch 2/3\n",
            "153/153 [==============================] - ETA: 0s - loss: 0.1395 - auc: 0.9872\n",
            "Epoch 00002: saving model to /content/drive/MyDrive/NLP for Web\n",
            "153/153 [==============================] - 1126s 7s/step - loss: 0.1395 - auc: 0.9872 - val_loss: 0.1214 - val_auc: 0.9952\n",
            "Epoch 3/3\n",
            "153/153 [==============================] - ETA: 0s - loss: 0.1177 - auc: 0.9908\n",
            "Epoch 00003: saving model to /content/drive/MyDrive/NLP for Web\n",
            "153/153 [==============================] - 1119s 7s/step - loss: 0.1177 - auc: 0.9908 - val_loss: 0.0781 - val_auc: 0.9974\n"
          ]
        },
        {
          "output_type": "execute_result",
          "data": {
            "text/plain": [
              "<keras.callbacks.History at 0x7f322b987850>"
            ]
          },
          "metadata": {},
          "execution_count": 16
        }
      ]
    },
    {
      "cell_type": "code",
      "source": [
        "os.listdir(checkpoint_dir)"
      ],
      "metadata": {
        "colab": {
          "base_uri": "https://localhost:8080/"
        },
        "id": "tpb4Zge8a3qI",
        "outputId": "db41d902-6c8d-46e1-fb43-bf86c9a0bbb2"
      },
      "execution_count": 18,
      "outputs": [
        {
          "output_type": "execute_result",
          "data": {
            "text/plain": [
              "['UHH_Vorlage_Praesentation_160429.gslides',\n",
              " 'Aufgabe 1.gdoc',\n",
              " 'Universität Hamburg.gdoc',\n",
              " 'Gruppe02_Edenfeld_Runge_Popat_Momenzada[Abschlusspraesentation].gslides',\n",
              " 'Eid- Qurban.gdoc',\n",
              " 'Bewerbung.gform',\n",
              " 'Colab Notebooks',\n",
              " 'trainset.csv',\n",
              " 'testset.csv',\n",
              " 'Kopie von Emotion Classifier.ipynb',\n",
              " 'drivesentences.gsheet',\n",
              " 'labelingdata.gsheet',\n",
              " 'model.data-00000-of-00001',\n",
              " 'Emotion Classifier.ipynb',\n",
              " 'variables.data-00000-of-00001',\n",
              " 'NLP for Web',\n",
              " 'DL NLP',\n",
              " 'Unbenannte Präsentation.gslides',\n",
              " 'GCN for textclassification.gslides',\n",
              " 'Seite 4 dlnp.m4a',\n",
              " 'Unbenanntes Dokument.gdoc',\n",
              " 'Momenzada_Bruehl_paper.mp4',\n",
              " 'Fake-News-and-Disinformation-related-to-COVID-19.gslides',\n",
              " 'Train.ipynb',\n",
              " 'NLP for Web.data-00000-of-00001',\n",
              " 'NLP for Web.index',\n",
              " 'checkpoint']"
            ]
          },
          "metadata": {},
          "execution_count": 18
        }
      ]
    }
  ]
}
